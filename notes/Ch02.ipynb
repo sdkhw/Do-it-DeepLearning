{
 "cells": [
  {
   "cell_type": "markdown",
   "metadata": {},
   "source": [
    "# 02 최소한의 도구로 딥러닝을 시작합니다"
   ]
  },
  {
   "cell_type": "markdown",
   "metadata": {},
   "source": [
    "이 노트북을 주피터 노트북 뷰어(nbviewer.jupyter.org)로 보거나 구글 코랩(colab.research.google.com)에서 실행할 수 있습니다.\n",
    "\n",
    "<table class=\"tfo-notebook-buttons\" align=\"left\">\n",
    "  <td>\n",
    "    <a target=\"_blank\" href=\"https://nbviewer.org/github/rickiepark/do-it-dl/blob/master/Ch02.ipynb\"><img src=\"https://jupyter.org/assets/share.png\" width=\"60\" />주피터 노트북 뷰어로 보기</a>\n",
    "  </td>\n",
    "  <td>\n",
    "    <a target=\"_blank\" href=\"https://colab.research.google.com/github/rickiepark/do-it-dl/blob/master/Ch02.ipynb\"><img src=\"https://www.tensorflow.org/images/colab_logo_32px.png\" />구글 코랩(Colab)에서 실행하기</a>\n",
    "  </td>\n",
    "</table>"
   ]
  },
  {
   "cell_type": "markdown",
   "metadata": {
    "colab_type": "text",
    "id": "ANeYYLVfmz53"
   },
   "source": [
    "## 02-2 딥러닝을 위한 도구들을 알아봅니다"
   ]
  },
  {
   "cell_type": "code",
   "execution_count": 5,
   "metadata": {
    "colab": {
     "base_uri": "https://localhost:8080/",
     "height": 35
    },
    "colab_type": "code",
    "executionInfo": {
     "elapsed": 885,
     "status": "ok",
     "timestamp": 1538325361489,
     "user": {
      "displayName": "Haesun Park",
      "photoUrl": "",
      "userId": "14935388527648823821"
     },
     "user_tz": -540
    },
    "id": "i6c2xjWYnAY6",
    "outputId": "8e3a408c-310e-4383-ef79-32d90396d92f"
   },
   "outputs": [
    {
     "name": "stdout",
     "output_type": "stream",
     "text": [
      "hello list\n"
     ]
    }
   ],
   "source": [
    "my_list = [10, 'hello list', 20]\n",
    "print(my_list[1])"
   ]
  },
  {
   "cell_type": "code",
   "execution_count": 6,
   "metadata": {
    "colab": {
     "base_uri": "https://localhost:8080/",
     "height": 35
    },
    "colab_type": "code",
    "executionInfo": {
     "elapsed": 888,
     "status": "ok",
     "timestamp": 1538325362477,
     "user": {
      "displayName": "Haesun Park",
      "photoUrl": "",
      "userId": "14935388527648823821"
     },
     "user_tz": -540
    },
    "id": "v6MIiDoBoPXB",
    "outputId": "bcd7d44f-4477-4cdf-d859-7bcd2f19d413"
   },
   "outputs": [
    {
     "name": "stdout",
     "output_type": "stream",
     "text": [
      "50\n"
     ]
    }
   ],
   "source": [
    "my_list_2 = [[10, 20, 30], [40, 50, 60]]\n",
    "print(my_list_2[1][1])"
   ]
  },
  {
   "cell_type": "code",
   "execution_count": 7,
   "metadata": {
    "colab": {
     "base_uri": "https://localhost:8080/",
     "height": 35
    },
    "colab_type": "code",
    "executionInfo": {
     "elapsed": 905,
     "status": "ok",
     "timestamp": 1538325363484,
     "user": {
      "displayName": "Haesun Park",
      "photoUrl": "",
      "userId": "14935388527648823821"
     },
     "user_tz": -540
    },
    "id": "ZYdIzZlUqzRQ",
    "outputId": "b9d905e5-b644-419c-ea0e-d76e519f50c1"
   },
   "outputs": [
    {
     "name": "stdout",
     "output_type": "stream",
     "text": [
      "2.3.3\n"
     ]
    }
   ],
   "source": [
    "import numpy as np\n",
    "print(np.__version__)"
   ]
  },
  {
   "cell_type": "code",
   "execution_count": 8,
   "metadata": {
    "colab": {
     "base_uri": "https://localhost:8080/",
     "height": 52
    },
    "colab_type": "code",
    "executionInfo": {
     "elapsed": 1063,
     "status": "ok",
     "timestamp": 1538325364645,
     "user": {
      "displayName": "Haesun Park",
      "photoUrl": "",
      "userId": "14935388527648823821"
     },
     "user_tz": -540
    },
    "id": "WyB0D8g_t7lC",
    "outputId": "01658377-4ba2-4db7-9728-8eb64b9eb44e"
   },
   "outputs": [
    {
     "name": "stdout",
     "output_type": "stream",
     "text": [
      "[[10 20 30]\n",
      " [40 50 60]]\n"
     ]
    }
   ],
   "source": [
    "my_arr = np.array([[10, 20, 30], [40, 50, 60]])\n",
    "print(my_arr)"
   ]
  },
  {
   "cell_type": "code",
   "execution_count": 9,
   "metadata": {
    "colab": {
     "base_uri": "https://localhost:8080/",
     "height": 35
    },
    "colab_type": "code",
    "executionInfo": {
     "elapsed": 930,
     "status": "ok",
     "timestamp": 1538325365679,
     "user": {
      "displayName": "Haesun Park",
      "photoUrl": "",
      "userId": "14935388527648823821"
     },
     "user_tz": -540
    },
    "id": "-E8JBNIJu0v_",
    "outputId": "b8709747-0867-4b18-b194-fba0ff78dd77"
   },
   "outputs": [
    {
     "data": {
      "text/plain": [
       "numpy.ndarray"
      ]
     },
     "execution_count": 9,
     "metadata": {},
     "output_type": "execute_result"
    }
   ],
   "source": [
    "type(my_arr)"
   ]
  },
  {
   "cell_type": "code",
   "execution_count": 10,
   "metadata": {
    "colab": {
     "base_uri": "https://localhost:8080/",
     "height": 35
    },
    "colab_type": "code",
    "executionInfo": {
     "elapsed": 930,
     "status": "ok",
     "timestamp": 1538325366680,
     "user": {
      "displayName": "Haesun Park",
      "photoUrl": "",
      "userId": "14935388527648823821"
     },
     "user_tz": -540
    },
    "id": "FYRVVtpCzHC_",
    "outputId": "c915a361-9bd5-4b8d-8058-7baba53f6b2a"
   },
   "outputs": [
    {
     "data": {
      "text/plain": [
       "np.int64(30)"
      ]
     },
     "execution_count": 10,
     "metadata": {},
     "output_type": "execute_result"
    }
   ],
   "source": [
    "my_arr[0][2]"
   ]
  },
  {
   "cell_type": "code",
   "execution_count": 11,
   "metadata": {
    "colab": {
     "base_uri": "https://localhost:8080/",
     "height": 35
    },
    "colab_type": "code",
    "executionInfo": {
     "elapsed": 639,
     "status": "ok",
     "timestamp": 1538325367447,
     "user": {
      "displayName": "Haesun Park",
      "photoUrl": "",
      "userId": "14935388527648823821"
     },
     "user_tz": -540
    },
    "id": "0WALSGtj0V1I",
    "outputId": "75270bc3-180c-4935-a323-9a9a86adeffc"
   },
   "outputs": [
    {
     "data": {
      "text/plain": [
       "np.int64(210)"
      ]
     },
     "execution_count": 11,
     "metadata": {},
     "output_type": "execute_result"
    }
   ],
   "source": [
    "np.sum(my_arr)"
   ]
  },
  {
   "cell_type": "markdown",
   "metadata": {
    "colab_type": "text",
    "id": "Q82Hyhri1Cc5"
   },
   "source": [
    "<퀴즈>\n",
    "`my_arr` 배열의 두 번째 행의 첫 번째 원소를 `print()` 함수로 출력해 보세요."
   ]
  },
  {
   "cell_type": "code",
   "execution_count": 12,
   "metadata": {
    "colab": {
     "base_uri": "https://localhost:8080/",
     "height": 35
    },
    "colab_type": "code",
    "executionInfo": {
     "elapsed": 934,
     "status": "ok",
     "timestamp": 1538325368477,
     "user": {
      "displayName": "Haesun Park",
      "photoUrl": "",
      "userId": "14935388527648823821"
     },
     "user_tz": -540
    },
    "id": "eWjHmkPJ1Q_k",
    "outputId": "4347a2a5-49d1-4dab-e709-b05fd8cd1f61"
   },
   "outputs": [
    {
     "name": "stdout",
     "output_type": "stream",
     "text": [
      "40\n"
     ]
    }
   ],
   "source": [
    "print(my_arr[1][0])"
   ]
  },
  {
   "cell_type": "code",
   "execution_count": 13,
   "metadata": {
    "colab": {},
    "colab_type": "code",
    "id": "uA7hgZMSfEdI"
   },
   "outputs": [],
   "source": [
    "import matplotlib.pyplot as plt"
   ]
  },
  {
   "cell_type": "code",
   "execution_count": 14,
   "metadata": {
    "colab": {
     "base_uri": "https://localhost:8080/",
     "height": 347
    },
    "colab_type": "code",
    "executionInfo": {
     "elapsed": 1562,
     "status": "ok",
     "timestamp": 1538325371221,
     "user": {
      "displayName": "Haesun Park",
      "photoUrl": "",
      "userId": "14935388527648823821"
     },
     "user_tz": -540
    },
    "id": "9a5QBQ0DhF9d",
    "outputId": "75bdd20a-3ab0-4f2d-b819-be367d1508d7"
   },
   "outputs": [
    {
     "data": {
      "image/png": "[encoded data removed]",
      "text/plain": [
       "<Figure size 640x480 with 1 Axes>"
      ]
     },
     "metadata": {},
     "output_type": "display_data"
    }
   ],
   "source": [
    "plt.plot([1, 2, 3, 4, 5], [1, 4, 9, 16, 25]) # x 좌표와 y 좌표를 파이썬 리스트로 전달합니다.\n",
    "plt.show()"
   ]
  },
  {
   "cell_type": "code",
   "execution_count": 15,
   "metadata": {
    "colab": {
     "base_uri": "https://localhost:8080/",
     "height": 347
    },
    "colab_type": "code",
    "executionInfo": {
     "elapsed": 1287,
     "status": "ok",
     "timestamp": 1538325372561,
     "user": {
      "displayName": "Haesun Park",
      "photoUrl": "",
      "userId": "14935388527648823821"
     },
     "user_tz": -540
    },
    "id": "cTM7QMQPCDPg",
    "outputId": "d79836ec-af46-4c82-fb1e-f03b79c3e71c"
   },
   "outputs": [
    {
     "data": {
      "image/png": "[encoded data removed]",
      "text/plain": [
       "<Figure size 640x480 with 1 Axes>"
      ]
     },
     "metadata": {},
     "output_type": "display_data"
    }
   ],
   "source": [
    "plt.scatter([1, 2, 3, 4, 5], [1, 4, 9, 16, 25])\n",
    "plt.show()"
   ]
  },
  {
   "cell_type": "code",
   "execution_count": 16,
   "metadata": {
    "colab": {
     "base_uri": "https://localhost:8080/",
     "height": 347
    },
    "colab_type": "code",
    "executionInfo": {
     "elapsed": 1649,
     "status": "ok",
     "timestamp": 1538325374278,
     "user": {
      "displayName": "Haesun Park",
      "photoUrl": "",
      "userId": "14935388527648823821"
     },
     "user_tz": -540
    },
    "id": "1oUskZcrD0Wp",
    "outputId": "29ae4acf-2e6a-4599-fd3f-65e5d19f0683"
   },
   "outputs": [
    {
     "data": {
      "image/png": "[encoded data removed]",
      "text/plain": [
       "<Figure size 640x480 with 1 Axes>"
      ]
     },
     "metadata": {},
     "output_type": "display_data"
    }
   ],
   "source": [
    "x = np.random.randn(1000) # 표준 정규 분포를 따르는 난수 1,000개를 만듭니다.\n",
    "y = np.random.randn(1000) # 표준 정규 분포를 따르는 난수 1,000개를 만듭니다.\n",
    "plt.scatter(x, y)\n",
    "plt.show()"
   ]
  }
 ],
 "metadata": {
  "colab": {
   "collapsed_sections": [],
   "name": "2.최소한의도구로시작합니다.ipynb",
   "provenance": [],
   "version": "0.3.2"
  },
  "kernelspec": {
   "display_name": "venv (3.13.7)",
   "language": "python",
   "name": "python3"
  },
  "language_info": {
   "codemirror_mode": {
    "name": "ipython",
    "version": 3
   },
   "file_extension": ".py",
   "mimetype": "text/x-python",
   "name": "python",
   "nbconvert_exporter": "python",
   "pygments_lexer": "ipython3",
   "version": "3.13.7"
  }
 },
 "nbformat": 4,
 "nbformat_minor": 1
}
